{
 "cells": [
  {
   "cell_type": "code",
   "execution_count": 1,
   "id": "25093bbc-9ed2-4a92-ad1f-904b1b4a5738",
   "metadata": {},
   "outputs": [],
   "source": [
    "# Applied Statistical Data Analysis- Assignment 1"
   ]
  },
  {
   "cell_type": "code",
   "execution_count": 2,
   "id": "944737e1-d79b-4277-b806-a582a7e4ec6c",
   "metadata": {},
   "outputs": [],
   "source": [
    "# Import necessary packages and extract the word list from the text paragraph using re.\n",
    "# The Counter from the collections module is used to count the frequency of each word.\n",
    "# nltk is used to find the type of word (Part of Speech).\n",
    "# pandas helps to organize the results in a structured table (DataFrame)."
   ]
  },
  {
   "cell_type": "code",
   "execution_count": 3,
   "id": "293b1bc7-9d1b-4f40-a26b-d0e46e1335bf",
   "metadata": {},
   "outputs": [],
   "source": [
    "import re\n",
    "import pandas as pd\n",
    "import numpy as np\n",
    "from collections import Counter\n",
    "import nltk\n",
    "from nltk.tokenize import word_tokenize\n",
    "from nltk import pos_tag"
   ]
  },
  {
   "cell_type": "code",
   "execution_count": 4,
   "id": "2ede7eed-e35b-4d8c-93f1-81af32710688",
   "metadata": {},
   "outputs": [],
   "source": [
    "# Read the entire text from the txt file and assign it as a new string variable w_text\n",
    "with open('words.txt', 'r') as file:\n",
    "    file_content = file.read()\n",
    "w_text = file_content\n",
    "# print(w_text)"
   ]
  },
  {
   "cell_type": "code",
   "execution_count": 5,
   "id": "a3f6290e-47b5-4157-9dc9-e453311ef316",
   "metadata": {},
   "outputs": [],
   "source": [
    "words = [word.lower() for word in re.findall(r'\\b[a-zA-Z]+\\b', w_text)]\n",
    "word_type_mapping = {\n",
    "    'NN': 'Noun',\n",
    "    'NNS': 'Noun',\n",
    "    'VB': 'Verb',\n",
    "    'VBD': 'Verb',\n",
    "    'VBG': 'Verb',\n",
    "    'VBN': 'Verb',\n",
    "    'VBP': 'Verb',\n",
    "    'VBZ': 'Verb',\n",
    "    'JJ': 'Adjective',\n",
    "    'RB': 'Adverb',\n",
    "    'DT': 'Determiner',\n",
    "    'IN': 'Preposition'\n",
    "}\n",
    "\n",
    "# words"
   ]
  },
  {
   "cell_type": "code",
   "execution_count": 14,
   "id": "13f0b92b-a7ce-4196-98d9-6a9d6f186661",
   "metadata": {},
   "outputs": [
    {
     "name": "stdout",
     "output_type": "stream",
     "text": [
      "         Word    Word_type  Frequency  Length\n",
      "0          in  Preposition          3       2\n",
      "1    academia         Noun          1       8\n",
      "2         and        Other          5       3\n",
      "3   political    Adjective          1       9\n",
      "4     debates         Noun          1       7\n",
      "..        ...          ...        ...     ...\n",
      "78    authors         Noun          1       7\n",
      "79   relation         Noun          1       8\n",
      "80         's        Other          1       2\n",
      "81        age         Noun          1       3\n",
      "82       size         Noun          1       4\n",
      "\n",
      "[83 rows x 4 columns]\n"
     ]
    },
    {
     "name": "stderr",
     "output_type": "stream",
     "text": [
      "[nltk_data] Downloading package punkt to\n",
      "[nltk_data]     C:\\Users\\ROG\\AppData\\Roaming\\nltk_data...\n",
      "[nltk_data]   Package punkt is already up-to-date!\n",
      "[nltk_data] Downloading package averaged_perceptron_tagger to\n",
      "[nltk_data]     C:\\Users\\ROG\\AppData\\Roaming\\nltk_data...\n",
      "[nltk_data]   Package averaged_perceptron_tagger is already up-to-\n",
      "[nltk_data]       date!\n"
     ]
    }
   ],
   "source": [
    "nltk.download('punkt')\n",
    "nltk.download('averaged_perceptron_tagger')\n",
    "\n",
    "# Tokenize and tag the text\n",
    "tokens = word_tokenize(w_text)\n",
    "tagged_words = pos_tag(tokens)\n",
    "\n",
    "# Count word frequencies of the words\n",
    "word_frequencies = Counter(word.lower() for word in tokens)\n",
    "word_lst = []\n",
    "# Output the classified words and their frequencies\n",
    "for word, frequency in word_frequencies.items():\n",
    "    # Get the word type tag for classification\n",
    "    # POS : part-of-speech\n",
    "    tag = pos_tag([word])[0][1]\n",
    "    length = len(word)\n",
    "    full_tag = word_type_mapping.get(tag, 'Other')  # Default to 'Other' if tag not found\n",
    "    word_lst.append({'Word': word, 'Word_type': full_tag, 'Frequency': frequency, 'Length': length})\n",
    "\n",
    "# Convert to DataFrame\n",
    "word_df = pd.DataFrame(word_lst)\n",
    "# Display the DataFrame\n",
    "print(word_df)"
   ]
  }
 ],
 "metadata": {
  "kernelspec": {
   "display_name": "Python 3 (ipykernel)",
   "language": "python",
   "name": "python3"
  },
  "language_info": {
   "codemirror_mode": {
    "name": "ipython",
    "version": 3
   },
   "file_extension": ".py",
   "mimetype": "text/x-python",
   "name": "python",
   "nbconvert_exporter": "python",
   "pygments_lexer": "ipython3",
   "version": "3.12.4"
  }
 },
 "nbformat": 4,
 "nbformat_minor": 5
}
