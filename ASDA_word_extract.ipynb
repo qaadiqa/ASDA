{
 "cells": [
  {
   "cell_type": "code",
   "execution_count": 1,
   "id": "293b1bc7-9d1b-4f40-a26b-d0e46e1335bf",
   "metadata": {},
   "outputs": [],
   "source": [
    "import pandas as pd\n",
    "import numpy as np"
   ]
  },
  {
   "cell_type": "code",
   "execution_count": null,
   "id": "2ede7eed-e35b-4d8c-93f1-81af32710688",
   "metadata": {},
   "outputs": [],
   "source": [
    "demo_para = \"This is a demo text's hardcoded to extract the words and classify.\""
   ]
  }
 ],
 "metadata": {
  "kernelspec": {
   "display_name": "Python 3 (ipykernel)",
   "language": "python",
   "name": "python3"
  },
  "language_info": {
   "codemirror_mode": {
    "name": "ipython",
    "version": 3
   },
   "file_extension": ".py",
   "mimetype": "text/x-python",
   "name": "python",
   "nbconvert_exporter": "python",
   "pygments_lexer": "ipython3",
   "version": "3.12.4"
  }
 },
 "nbformat": 4,
 "nbformat_minor": 5
}
