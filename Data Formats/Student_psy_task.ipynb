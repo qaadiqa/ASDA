{
 "cells": [
  {
   "cell_type": "markdown",
   "metadata": {},
   "source": [
    "# Data Formats Task"
   ]
  },
  {
   "cell_type": "markdown",
   "metadata": {},
   "source": [
    "### Objective:\n",
    "Analyze raw data from Group 1 \"Student task.txt\" and find all the errors present in the file.\n",
    "\n",
    "### Overview:\n",
    "The given raw data (filename) does not have a direct representation of what kind of student data are we dealing with. However, after going through the data fields and with a bit of research, the data is likely to be a \"Psychological or behavioral research study\".\n",
    "\n",
    "### Summary:\n",
    "This dataset captures participant responses, reaction times, and error rates across trials in a psychological study assessing implicit associations between age groups (e.g., \"Old People\" and \"Young People\") and attributes (e.g., \"Competent\" and \"Incompetent\")."
   ]
  },
  {
   "cell_type": "code",
   "execution_count": 1,
   "metadata": {},
   "outputs": [
    {
     "name": "stderr",
     "output_type": "stream",
     "text": [
      "C:\\Users\\ROG\\AppData\\Local\\Temp\\ipykernel_12256\\395085705.py:3: DtypeWarning: Columns (2,5) have mixed types. Specify dtype option on import or set low_memory=False.\n",
      "  raw_psy = pd.read_csv('Student task_Group1.txt', sep='\\t')\n"
     ]
    },
    {
     "data": {
      "text/html": [
       "<div>\n",
       "<style scoped>\n",
       "    .dataframe tbody tr th:only-of-type {\n",
       "        vertical-align: middle;\n",
       "    }\n",
       "\n",
       "    .dataframe tbody tr th {\n",
       "        vertical-align: top;\n",
       "    }\n",
       "\n",
       "    .dataframe thead th {\n",
       "        text-align: right;\n",
       "    }\n",
       "</style>\n",
       "<table border=\"1\" class=\"dataframe\">\n",
       "  <thead>\n",
       "    <tr style=\"text-align: right;\">\n",
       "      <th></th>\n",
       "      <th>block_number</th>\n",
       "      <th>block_name</th>\n",
       "      <th>block_trial_count</th>\n",
       "      <th>block_pairing_definition</th>\n",
       "      <th>study_name</th>\n",
       "      <th>task_number</th>\n",
       "      <th>task_name</th>\n",
       "      <th>trial_number</th>\n",
       "      <th>trial_name</th>\n",
       "      <th>trial_response</th>\n",
       "      <th>trial_latency</th>\n",
       "      <th>trial_error</th>\n",
       "      <th>session_id</th>\n",
       "    </tr>\n",
       "  </thead>\n",
       "  <tbody>\n",
       "    <tr>\n",
       "      <th>0</th>\n",
       "      <td>5</td>\n",
       "      <td>BLOCK5</td>\n",
       "      <td>24</td>\n",
       "      <td>Old People/Incompetent,Young People/Competent</td>\n",
       "      <td>NosekLab.nicolelindner.maxnetuc.0001</td>\n",
       "      <td>8</td>\n",
       "      <td>compoy</td>\n",
       "      <td>9</td>\n",
       "      <td>Independent</td>\n",
       "      <td>Young People/Competent</td>\n",
       "      <td>563</td>\n",
       "      <td>0</td>\n",
       "      <td>888619</td>\n",
       "    </tr>\n",
       "    <tr>\n",
       "      <th>1</th>\n",
       "      <td>5</td>\n",
       "      <td>BLOCK5</td>\n",
       "      <td>24</td>\n",
       "      <td>Old People/Incompetent,Young People/Competent</td>\n",
       "      <td>NosekLab.nicolelindner.maxnetuc.0001</td>\n",
       "      <td>8</td>\n",
       "      <td>compoy</td>\n",
       "      <td>10</td>\n",
       "      <td>om1.jpg</td>\n",
       "      <td>Old People/Incompetent</td>\n",
       "      <td>430</td>\n",
       "      <td>0</td>\n",
       "      <td>888619</td>\n",
       "    </tr>\n",
       "    <tr>\n",
       "      <th>2</th>\n",
       "      <td>5</td>\n",
       "      <td>BLOCK5</td>\n",
       "      <td>24</td>\n",
       "      <td>Old People/Incompetent,Young People/Competent</td>\n",
       "      <td>NosekLab.nicolelindner.maxnetuc.0001</td>\n",
       "      <td>8</td>\n",
       "      <td>compoy</td>\n",
       "      <td>11</td>\n",
       "      <td>Skilled</td>\n",
       "      <td>Young People/Competent</td>\n",
       "      <td>524</td>\n",
       "      <td>0</td>\n",
       "      <td>888619</td>\n",
       "    </tr>\n",
       "    <tr>\n",
       "      <th>3</th>\n",
       "      <td>5</td>\n",
       "      <td>BLOCK5</td>\n",
       "      <td>24</td>\n",
       "      <td>Old People/Incompetent,Young People/Competent</td>\n",
       "      <td>NosekLab.nicolelindner.maxnetuc.0001</td>\n",
       "      <td>8</td>\n",
       "      <td>compoy</td>\n",
       "      <td>12</td>\n",
       "      <td>ym5.jpg</td>\n",
       "      <td>Young People/Competent</td>\n",
       "      <td>487</td>\n",
       "      <td>0</td>\n",
       "      <td>888619</td>\n",
       "    </tr>\n",
       "    <tr>\n",
       "      <th>4</th>\n",
       "      <td>5</td>\n",
       "      <td>BLOCK5</td>\n",
       "      <td>24</td>\n",
       "      <td>Old People/Incompetent,Young People/Competent</td>\n",
       "      <td>NosekLab.nicolelindner.maxnetuc.0001</td>\n",
       "      <td>8</td>\n",
       "      <td>compoy</td>\n",
       "      <td>13</td>\n",
       "      <td>Competent</td>\n",
       "      <td>Young People/Competent</td>\n",
       "      <td>960</td>\n",
       "      <td>0</td>\n",
       "      <td>888619</td>\n",
       "    </tr>\n",
       "  </tbody>\n",
       "</table>\n",
       "</div>"
      ],
      "text/plain": [
       "   block_number  block_name  block_trial_count  \\\n",
       "0             5      BLOCK5                 24   \n",
       "1             5      BLOCK5                 24   \n",
       "2             5      BLOCK5                 24   \n",
       "3             5      BLOCK5                 24   \n",
       "4             5      BLOCK5                 24   \n",
       "\n",
       "                        block_pairing_definition  \\\n",
       "0  Old People/Incompetent,Young People/Competent   \n",
       "1  Old People/Incompetent,Young People/Competent   \n",
       "2  Old People/Incompetent,Young People/Competent   \n",
       "3  Old People/Incompetent,Young People/Competent   \n",
       "4  Old People/Incompetent,Young People/Competent   \n",
       "\n",
       "                             study_name  task_number  task_name  \\\n",
       "0  NosekLab.nicolelindner.maxnetuc.0001            8     compoy   \n",
       "1  NosekLab.nicolelindner.maxnetuc.0001            8     compoy   \n",
       "2  NosekLab.nicolelindner.maxnetuc.0001            8     compoy   \n",
       "3  NosekLab.nicolelindner.maxnetuc.0001            8     compoy   \n",
       "4  NosekLab.nicolelindner.maxnetuc.0001            8     compoy   \n",
       "\n",
       "    trial_number   trial_name          trial_response   trial_latency  \\\n",
       "0              9  Independent  Young People/Competent             563   \n",
       "1             10      om1.jpg  Old People/Incompetent             430   \n",
       "2             11      Skilled  Young People/Competent             524   \n",
       "3             12      ym5.jpg  Young People/Competent             487   \n",
       "4             13    Competent  Young People/Competent             960   \n",
       "\n",
       "    trial_error   session_id   \n",
       "0             0        888619  \n",
       "1             0        888619  \n",
       "2             0        888619  \n",
       "3             0        888619  \n",
       "4             0        888619  "
      ]
     },
     "execution_count": 1,
     "metadata": {},
     "output_type": "execute_result"
    }
   ],
   "source": [
    "import numpy as np\n",
    "import pandas as pd\n",
    "raw_psy = pd.read_csv('Student task_Group1.txt', sep='\\t')\n",
    "raw_psy.head()"
   ]
  },
  {
   "cell_type": "markdown",
   "metadata": {},
   "source": [
    "### 1. Basic sanity checks on the data set:\n",
    "##### > Data types of the fields and unique identities\n",
    "##### > Null/ nan/ ' '/ -> check nulls\n",
    "##### > Manual errors -> typos"
   ]
  },
  {
   "cell_type": "code",
   "execution_count": 59,
   "metadata": {},
   "outputs": [
    {
     "name": "stdout",
     "output_type": "stream",
     "text": [
      "<class 'pandas.core.frame.DataFrame'>\n",
      "RangeIndex: 144552 entries, 0 to 144551\n",
      "Data columns (total 13 columns):\n",
      " #   Column                     Non-Null Count   Dtype \n",
      "---  ------                     --------------   ----- \n",
      " 0   block_number               144552 non-null  int64 \n",
      " 1    block_name                144551 non-null  object\n",
      " 2    block_trial_count         144552 non-null  object\n",
      " 3    block_pairing_definition  144552 non-null  object\n",
      " 4    study_name                144552 non-null  object\n",
      " 5    task_number               144551 non-null  object\n",
      " 6    task_name                 144552 non-null  object\n",
      " 7    trial_number              144552 non-null  int64 \n",
      " 8    trial_name                144552 non-null  object\n",
      " 9    trial_response            144552 non-null  object\n",
      " 10   trial_latency             144552 non-null  int64 \n",
      " 11   trial_error               144552 non-null  int64 \n",
      " 12   session_id                144552 non-null  int64 \n",
      "dtypes: int64(5), object(8)\n",
      "memory usage: 14.3+ MB\n",
      "--------------------------------------------------\n",
      "block_number: [5 0 1 2 4 3]\n",
      "--------------------------------------------------\n",
      " block_name: ['BLOCK5' 'BLOCK0' 'BLOCK1' nan 'BLOCK2' 'BLOCK4' 'BLOCK3']\n",
      "--------------------------------------------------\n",
      " block_trial_count: ['24' '12' 'km24' 24 12]\n",
      "--------------------------------------------------\n",
      " block_pairing_definition: ['Old People/Incompetent,Young People/Competent' 'Incompetent,Competent'\n",
      " 'Young People/Incompetent,Old People/Competent']\n",
      "--------------------------------------------------\n",
      " study_name: ['NosekLab.nicolelindner.maxnetuc.0001' 'maxnetuc.0001']\n",
      "--------------------------------------------------\n",
      " task_number: ['8' nan 'a8' '9' 8 9]\n",
      "--------------------------------------------------\n",
      " task_name: ['compoy' 'compony']\n",
      "--------------------------------------------------\n",
      " trial_number: [ 9 10 11 12 13 14 15 16 17 18 19  0  1  2  3  4  5  6  7  8 20 21 22 23\n",
      " -3]\n",
      "--------------------------------------------------\n",
      " trial_name: ['Independent' 'om1.jpg' 'Skilled' 'ym5.jpg' 'Competent' 'ym2.jpg'\n",
      " 'Stupid' 'om2.jpg' 'Mediocre' 'Incompetent' 'Lacking' 'Smart' 'om3.jpg'\n",
      " 'ym3.jpg' 'om3.jpgo']\n",
      "--------------------------------------------------\n",
      " trial_response: ['Young People/Competent' 'Old People/Incompetent' 'Competent'\n",
      " 'Incompetent' 'Young People/Incompetent' 'Old People/Competent']\n",
      "--------------------------------------------------\n",
      " trial_latency: [ 563  430  524 ... 2746 8302 9924]\n",
      "--------------------------------------------------\n",
      " trial_error: [0 1]\n",
      "--------------------------------------------------\n",
      " session_id : [888619 892931 893020 ... 901147 901094 900877]\n",
      "________________________________________________________________________________________________________\n",
      "Null values found at:\n",
      "Index: 24, Column:  block_name\n",
      "Index: 34, Column:  task_number\n"
     ]
    }
   ],
   "source": [
    "# Check the data types and unique identities of the fields.\n",
    "raw_psy.info()\n",
    "for col in raw_psy.columns:\n",
    "    print(\"--------------------------------------------------\")\n",
    "    print(f\"{col}: {raw_psy[col].unique()}\")\n",
    "\n",
    "# Check for any NaN or empty string values in each cell\n",
    "null_values = raw_psy.isnull() | (raw_psy == '')\n",
    "\n",
    "# Identify the rows and columns where these null values are located\n",
    "nan_locations = [(index, col) for index, row in null_values.iterrows() for col, is_null in row.items() if is_null]\n",
    "\n",
    "if nan_locations:\n",
    "    print(\"________________________________________________________________________________________________________\")\n",
    "    print(\"Null values found at:\")\n",
    "    for index, col in nan_locations:\n",
    "        print(f\"Index: {index}, Column: {col}\")\n",
    "else:\n",
    "    print(\"No null or empty values found in the DataFrame.\")"
   ]
  },
  {
   "cell_type": "markdown",
   "metadata": {},
   "source": [
    "### 2. Duplicate records\n"
   ]
  },
  {
   "cell_type": "code",
   "execution_count": 65,
   "metadata": {},
   "outputs": [
    {
     "name": "stdout",
     "output_type": "stream",
     "text": [
      "Number of duplicated rows: 0\n"
     ]
    }
   ],
   "source": [
    "print(f\"Number of duplicated rows: {raw_psy.duplicated().sum()}\")"
   ]
  },
  {
   "cell_type": "markdown",
   "metadata": {},
   "source": [
    "###### There are no duplicates."
   ]
  },
  {
   "cell_type": "markdown",
   "metadata": {},
   "source": [
    "### 3. Data type Corrections\n",
    "During the check on the data types of the fields and the data frame, we observe that there are few fileds that are either int64 or object which can be casted as string since they are fixed entities. Provided there are entities which are prone to be altered in the future.\n",
    "   \n"
   ]
  },
  {
   "cell_type": "code",
   "execution_count": 118,
   "metadata": {},
   "outputs": [
    {
     "name": "stdout",
     "output_type": "stream",
     "text": [
      "<class 'pandas.core.frame.DataFrame'>\n",
      "RangeIndex: 144552 entries, 0 to 144551\n",
      "Data columns (total 13 columns):\n",
      " #   Column                    Non-Null Count   Dtype \n",
      "---  ------                    --------------   ----- \n",
      " 0   block_number              144552 non-null  string\n",
      " 1   block_name                144552 non-null  string\n",
      " 2   block_trial_count         144552 non-null  int32 \n",
      " 3   block_pairing_definition  144552 non-null  string\n",
      " 4   study_name                144552 non-null  string\n",
      " 5   task_number               144552 non-null  string\n",
      " 6   task_name                 144552 non-null  string\n",
      " 7   trial_number              144552 non-null  string\n",
      " 8   trial_name                144552 non-null  string\n",
      " 9   trial_response            144552 non-null  string\n",
      " 10  trial_latency             144552 non-null  int32 \n",
      " 11  trial_error               144552 non-null  string\n",
      " 12  session_id                144552 non-null  string\n",
      "dtypes: int32(2), string(11)\n",
      "memory usage: 13.2 MB\n"
     ]
    }
   ],
   "source": [
    "raw_psy.columns = raw_psy.columns.str.strip()\n",
    "raw_psy = raw_psy.astype(\"string\")\n",
    "# Convert specific columns (block_trial_count, trial_latency ) to integers as the values can be altered later.\n",
    "raw_psy['block_trial_count'] = pd.to_numeric(raw_psy['block_trial_count'], errors='coerce').fillna(0).astype(int)\n",
    "raw_psy['trial_latency'] = pd.to_numeric(raw_psy['trial_latency'], errors='coerce').fillna(0).astype(int)\n",
    "raw_psy.info()\n"
   ]
  },
  {
   "cell_type": "markdown",
   "metadata": {},
   "source": [
    "##### Mistakes observed after aforementioned analysis:\n",
    "* block_trial_count - 'km24' is not a number\n",
    "* task_number - 'a8' is not a number;\n",
    "* task_name - 'compoy' instead of compony - a manual error / could be a typo\n",
    "* study_name - Incomplete study_name - 'maxnetuc.0001'\n",
    "* trial_number - Should be a whole number. We have a '-3' value in the field\n",
    "* trial_name - We have \".jpg\" values that is symantically impractical to  be with the other values of the field.\n",
    "* trial_response - Incomplete field values // may be that is how it is\n",
    "* Null values found in block_name and task_number"
   ]
  },
  {
   "cell_type": "code",
   "execution_count": null,
   "metadata": {},
   "outputs": [],
   "source": []
  }
 ],
 "metadata": {
  "kernelspec": {
   "display_name": "Python 3 (ipykernel)",
   "language": "python",
   "name": "python3"
  },
  "language_info": {
   "codemirror_mode": {
    "name": "ipython",
    "version": 3
   },
   "file_extension": ".py",
   "mimetype": "text/x-python",
   "name": "python",
   "nbconvert_exporter": "python",
   "pygments_lexer": "ipython3",
   "version": "3.12.4"
  }
 },
 "nbformat": 4,
 "nbformat_minor": 4
}
